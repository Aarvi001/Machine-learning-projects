{
  "nbformat": 4,
  "nbformat_minor": 0,
  "metadata": {
    "colab": {
      "name": "ml_lab2_linearRegressionSklearn.ipynb",
      "provenance": [],
      "collapsed_sections": []
    },
    "kernelspec": {
      "name": "python3",
      "display_name": "Python 3"
    },
    "language_info": {
      "name": "python"
    }
  },
  "cells": [
    {
      "cell_type": "code",
      "metadata": {
        "id": "W9tWvwsSw7FE"
      },
      "source": [
        "import pandas as pd\n",
        "import numpy as np\n",
        "import matplotlib.pyplot as plt\n",
        "import seaborn as sns\n",
        "from sklearn.model_selection import train_test_split\n",
        "from sklearn.linear_model import LinearRegression"
      ],
      "execution_count": 13,
      "outputs": []
    },
    {
      "cell_type": "code",
      "metadata": {
        "id": "VlF4O0OoxKs_"
      },
      "source": [
        "real_df = pd.read_csv('Real estate.csv')\n"
      ],
      "execution_count": 14,
      "outputs": []
    },
    {
      "cell_type": "code",
      "metadata": {
        "id": "6ubasN8KzESR"
      },
      "source": [
        "#X = real_df.drop(columns=['No', 'Y house price of unit area'])\n",
        "X = real_df[['X3 distance to the nearest MRT station']]\n",
        "y = real_df[['Y house price of unit area']]\n",
        "X_train, X_test, y_train, y_test = train_test_split(X, y, test_size=0.2, random_state=100)"
      ],
      "execution_count": 15,
      "outputs": []
    },
    {
      "cell_type": "code",
      "metadata": {
        "colab": {
          "base_uri": "https://localhost:8080/"
        },
        "id": "2PMdjlzzzhuj",
        "outputId": "5c921766-3873-42c0-a4c5-dd6f63eed2e9"
      },
      "source": [
        "lrm = LinearRegression()\n",
        "lrm.fit(X_train, y_train)"
      ],
      "execution_count": 16,
      "outputs": [
        {
          "output_type": "execute_result",
          "data": {
            "text/plain": [
              "LinearRegression(copy_X=True, fit_intercept=True, n_jobs=None, normalize=False)"
            ]
          },
          "metadata": {},
          "execution_count": 16
        }
      ]
    },
    {
      "cell_type": "code",
      "metadata": {
        "colab": {
          "base_uri": "https://localhost:8080/",
          "height": 321
        },
        "id": "-NtBmmV41bwF",
        "outputId": "4c2d8586-cb12-4d72-d858-6bdd4c78440c"
      },
      "source": [
        "y_test_pred = lrm.predict(X_test)\n",
        "sns.distplot(y_test-y_test_pred)\n",
        "plt.show()"
      ],
      "execution_count": 17,
      "outputs": [
        {
          "output_type": "stream",
          "name": "stderr",
          "text": [
            "/usr/local/lib/python3.7/dist-packages/seaborn/distributions.py:2619: FutureWarning: `distplot` is a deprecated function and will be removed in a future version. Please adapt your code to use either `displot` (a figure-level function with similar flexibility) or `histplot` (an axes-level function for histograms).\n",
            "  warnings.warn(msg, FutureWarning)\n"
          ]
        },
        {
          "output_type": "display_data",
          "data": {
            "image/png": "[encoded data removed]",
            "text/plain": [
              "<Figure size 432x288 with 1 Axes>"
            ]
          },
          "metadata": {
            "needs_background": "light"
          }
        }
      ]
    },
    {
      "cell_type": "code",
      "metadata": {
        "colab": {
          "base_uri": "https://localhost:8080/",
          "height": 265
        },
        "id": "eEOqmGbYeulB",
        "outputId": "0341b41a-3e51-4214-c21f-5bd1bf9b8cc0"
      },
      "source": [
        "plt.scatter(X_test[0:20], y_test[0:20], color = 'red' )\n",
        "plt.plot(X_test[0:20], y_test_pred[0:20], color = 'blue')\n",
        "plt.show()\n"
      ],
      "execution_count": 18,
      "outputs": [
        {
          "output_type": "display_data",
          "data": {
            "image/png": "[encoded data removed]",
            "text/plain": [
              "<Figure size 432x288 with 1 Axes>"
            ]
          },
          "metadata": {
            "needs_background": "light"
          }
        }
      ]
    },
    {
      "cell_type": "code",
      "metadata": {
        "id": "aJ81MJL5jkZa",
        "colab": {
          "base_uri": "https://localhost:8080/"
        },
        "outputId": "e1336c07-ec00-4e02-b134-62d1cea1c522"
      },
      "source": [
        "print(\"Mean squared error: %.2f\" % np.mean((y_test_pred - y_test) ** 2))\n",
        "print(np.sqrt(np.mean((y_test_pred - y_test) ** 2)))"
      ],
      "execution_count": 19,
      "outputs": [
        {
          "output_type": "stream",
          "name": "stdout",
          "text": [
            "Mean squared error: 73.37\n",
            "Y house price of unit area    8.56591\n",
            "dtype: float64\n"
          ]
        }
      ]
    },
    {
      "cell_type": "code",
      "metadata": {
        "colab": {
          "base_uri": "https://localhost:8080/"
        },
        "id": "aXyDsMgkLVoV",
        "outputId": "c0ec2ba3-2682-49c4-c5c2-b979836a9fba"
      },
      "source": [
        "import sklearn as sk\n",
        "rm = sk.metrics.mean_squared_error(y_test, y_test_pred)\n",
        "print(np.sqrt(rm))"
      ],
      "execution_count": 20,
      "outputs": [
        {
          "output_type": "stream",
          "name": "stdout",
          "text": [
            "8.565909535156027\n"
          ]
        }
      ]
    },
    {
      "cell_type": "code",
      "metadata": {
        "colab": {
          "base_uri": "https://localhost:8080/"
        },
        "id": "tNOIWQphO_gx",
        "outputId": "6f7e8bce-54a6-42f8-91f4-42bb9c4e394c"
      },
      "source": [
        "print(sk.metrics.r2_score(y_test, y_test_pred))"
      ],
      "execution_count": 21,
      "outputs": [
        {
          "output_type": "stream",
          "name": "stdout",
          "text": [
            "0.5084739783238813\n"
          ]
        }
      ]
    }
  ]
}